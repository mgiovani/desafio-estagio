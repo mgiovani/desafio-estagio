{
 "cells": [
  {
   "cell_type": "code",
   "execution_count": 3,
   "metadata": {},
   "outputs": [],
   "source": [
    "import requests\n",
    "from bs4 import BeautifulSoup as bs\n",
    "from selenium import webdriver\n",
    "from datetime import date\n",
    "\n",
    "from selenium import webdriver"
   ]
  },
  {
   "cell_type": "code",
   "execution_count": 24,
   "metadata": {},
   "outputs": [],
   "source": [
    "def getMD5(url):\n",
    "    return 'asd-asd'\n",
    "\n",
    "def toISO(data):\n",
    "    data = data.split('/')\n",
    "    if(len(data) < 3): return None\n",
    "    \n",
    "    return data[2] +'-'+ data[1] +'-'+ data[0]\n",
    "\n",
    "def getMD5List(data):\n",
    "    data = date.fromisoformat(data)\n",
    "    #if data < datetime.now()\n",
    "        #result = buscaDB(data)\n",
    "        #if result:\n",
    "        #    return result\n",
    "    \n",
    "    url = 'http://inter03.tse.jus.br/sadJudDiarioDeJusticaConsulta/diario.do'\n",
    "    parametros = {'action' : 'buscarDiarios', 'page' : 'diarioPageLastList.jsp', 'voDiarioSearch.listState.itensPerPage' : '100', \n",
    "                  'voDiarioSearch.tribunal' : 'TSE', 'voDiarioSearch.calendario' : 'false', 'voDiarioSearch.mesAnoPub' : data.strftime('%m')+'/'+str(data.year)} \n",
    "    \n",
    "    req = requests.get(url, params=parametros)\n",
    "    if req.status_code != 200:\n",
    "        return req.status_code\n",
    "    \n",
    "    driver = webdriver.Chrome()\n",
    "    driver.get(req.url)\n",
    "    \n",
    "    jsModificado = open('jsModificado.js', 'r')\n",
    "    driver.execute_script(jsModificado.read())\n",
    "    jsModificado.close()\n",
    "\n",
    "\n",
    "    soup = bs(req.text, 'html.parser')\n",
    "    tabela = soup.find_all('tr')\n",
    "    diarios = dict()\n",
    "    \n",
    "    #For que remove o header e footer da tabela\n",
    "    for i in range(1, len(tabela)-1):\n",
    "        td = tabela[i].find_all('td')\n",
    "        \n",
    "        if len(td) < 3: continue\n",
    "        key = td[0].get_text()\n",
    "        \n",
    "        dataDiario = date.fromisoformat(toISO(td[1].get_text()))\n",
    "        if dataDiario.day != data.day: continue\n",
    "        \n",
    "        md5Diario = getMD5(td[2])\n",
    "        diarios.setdefault(key, [str(dataDiario), md5Diario])\n",
    "    \n",
    "    print(diarios)\n",
    "    \n",
    "    #Download pdf\n",
    "    #insertDB(lista)"
   ]
  },
  {
   "cell_type": "code",
   "execution_count": 25,
   "metadata": {},
   "outputs": [
    {
     "name": "stdout",
     "output_type": "stream",
     "text": [
      "{'34/2019': ['2019-02-18', 'asd-asd']}\n"
     ]
    }
   ],
   "source": [
    "getMD5List('2019-02-18')"
   ]
  },
  {
   "cell_type": "code",
   "execution_count": null,
   "metadata": {},
   "outputs": [],
   "source": []
  },
  {
   "cell_type": "code",
   "execution_count": null,
   "metadata": {},
   "outputs": [],
   "source": []
  },
  {
   "cell_type": "code",
   "execution_count": null,
   "metadata": {},
   "outputs": [],
   "source": []
  },
  {
   "cell_type": "code",
   "execution_count": null,
   "metadata": {},
   "outputs": [],
   "source": []
  }
 ],
 "metadata": {
  "kernelspec": {
   "display_name": "Python 3",
   "language": "python",
   "name": "python3"
  },
  "language_info": {
   "codemirror_mode": {
    "name": "ipython",
    "version": 3
   },
   "file_extension": ".py",
   "mimetype": "text/x-python",
   "name": "python",
   "nbconvert_exporter": "python",
   "pygments_lexer": "ipython3",
   "version": "3.7.1"
  }
 },
 "nbformat": 4,
 "nbformat_minor": 2
}
