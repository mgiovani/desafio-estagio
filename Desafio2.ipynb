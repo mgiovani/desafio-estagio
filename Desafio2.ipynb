{
 "cells": [
  {
   "cell_type": "code",
   "execution_count": 1,
   "metadata": {},
   "outputs": [],
   "source": [
    "import requests\n",
    "import sqlite3\n",
    "import os\n",
    "import time\n",
    "import hashlib\n",
    "import json\n",
    "from datetime import date\n",
    "from os import path\n",
    "from bs4 import BeautifulSoup as bs\n",
    "from selenium import webdriver\n",
    "from selenium import webdriver\n",
    "from selenium.webdriver.chrome.options import Options\n",
    "from requests_html import HTMLSession\n",
    "\n",
    "jsonPath = path.join(os.getcwd(), \"md5List.json\")\n",
    "bdPath = path.join(os.getcwd(), \"sqlite.db\")\n",
    "downPath = path.join(os.getcwd(), \"Downloads\", \"\")\n",
    "diariosPath = path.join(os.getcwd(), \"Diarios\")"
   ]
  },
  {
   "cell_type": "code",
   "execution_count": 33,
   "metadata": {},
   "outputs": [],
   "source": [
    "def getId(dados):\n",
    "    idD = dados.find('a')['href'].replace('javascript:chamarCaptcha(', '').replace(',\\'TSE\\');', '')\n",
    "    return idD\n",
    "\n",
    "def getMD5(key, idD):       \n",
    "    diarioPath = path.join(os.getcwd(), \"Downloads\", key.replace('/', '_')+\".pdf\")\n",
    "\n",
    "    urlDownload = 'http://inter03.tse.jus.br/sadJudDiarioDeJusticaConsulta/diario.do'\n",
    "    parametros = {'action' : 'downloadDiario', 'captchaValidacao' : 'ok', 'id' : idD, 'tribunal' : 'TSE'} \n",
    "\n",
    "    req2 = requests.post(urlDownload, data=parametros)\n",
    "\n",
    "    if req2.status_code != 200:\n",
    "        return req2.status_code       \n",
    "\n",
    "    with open(diarioPath, 'wb') as file:\n",
    "        file.write(req2.content)\n",
    "\n",
    "    timeout = 20\n",
    "    while not os.path.exists(diarioPath):\n",
    "        timeout = timeout - 1\n",
    "        if timeout == 0: break\n",
    "        time.sleep(1)\n",
    "\n",
    "    if os.path.isfile(diarioPath):\n",
    "        md5 = hashlib.md5(open(diarioPath,'rb').read()).hexdigest()\n",
    "    return md5\n",
    "\n",
    "def toISO(data):\n",
    "    data = data.split('/')\n",
    "    if(len(data) < 3): return None\n",
    "    \n",
    "    return data[2] +'-'+ data[1] +'-'+ data[0]\n",
    "\n",
    "def buscaBDId(idD):\n",
    "    bd = sqlite3.connect(bdPath) \n",
    "    cursor = bd.cursor()\n",
    "    cursor.execute('SELECT diario.md5 FROM diario WHERE id='+idD)\n",
    "    md5 = -1\n",
    "    for linha in cursor.fetchall():\n",
    "        md5 = linha[0]\n",
    "    bd.close()\n",
    "    return md5\n",
    "\n",
    "def buscaBD(data):\n",
    "    bd = sqlite3.connect(bdPath) \n",
    "    cursor = bd.cursor()\n",
    "    cursor.execute('SELECT diario.md5 FROM diario WHERE data='+data)\n",
    "    md5 = []\n",
    "    for linha in cursor.fetchall():\n",
    "        md5.append(linha)\n",
    "        break\n",
    "    bd.close()\n",
    "    if len (md5) < 1: md5 = -1\n",
    "    return md5\n",
    "\n",
    "def insereBD(key, dataDiario, md5Diario, idDiario):\n",
    "    bd = sqlite3.connect(bdPath) \n",
    "    cursor = bd.cursor()\n",
    "    cursor.execute('INSERT INTO diario(numero, data, md5, id) VALUES (?,?,?,?)', [key, dataDiario, md5Diario, idDiario])\n",
    "    bd.commit()\n",
    "    bd.close()\n",
    "\n",
    "def getMD5List(data):\n",
    "    data = date.fromisoformat(data)    \n",
    "    urlBusca = 'http://inter03.tse.jus.br/sadJudDiarioDeJusticaConsulta/diarioTxt.do'\n",
    "    \n",
    "    parametros = {'action' : 'buscarDiarios', 'voDiarioSearch.tribunal' : 'TSE', 'page' : 'diarioPageTextualList.jsp', \n",
    "                  'voDiarioSearch.dataPubIni' : data.strftime(\"%d/%m/%Y\"), 'voDiarioSearch.dataPubFim' : data.strftime(\"%d/%m/%Y\")} \n",
    "    \n",
    "    req = requests.get(urlBusca, params=parametros)\n",
    "    if req.status_code != 200:\n",
    "        return req.status_code\n",
    "    \n",
    "    soup = bs(req.content, 'html.parser')\n",
    "    tabela = soup.find_all('tr')\n",
    "    diarios = dict()\n",
    "    \n",
    "    listaMd5 = []\n",
    "    #For que remove o header e footer da tabela\n",
    "    for i in range(2, len(tabela)):\n",
    "        td = tabela[i].find_all('td')\n",
    "        \n",
    "        if len(td) < 3: continue\n",
    "        key = td[0].get_text()\n",
    "        \n",
    "        dataDiario = date.fromisoformat(toISO(td[1].get_text()))\n",
    "        if dataDiario.day != data.day: continue\n",
    "        \n",
    "        idDiario = getId(td[2])\n",
    "        md5Diario = buscaBDId(str(idDiario))\n",
    "        if md5Diario == -1: \n",
    "            md5Diario = getMD5(key, idDiario)\n",
    "            insereBD(str(key), str(dataDiario), str(md5Diario[0]), idDiario)\n",
    "        listaMd5.append(md5Diario)\n",
    "        \n",
    "    return listaMd5"
   ]
  },
  {
   "cell_type": "code",
   "execution_count": 36,
   "metadata": {},
   "outputs": [
    {
     "data": {
      "text/plain": [
       "['0']"
      ]
     },
     "execution_count": 36,
     "metadata": {},
     "output_type": "execute_result"
    }
   ],
   "source": [
    "getMD5List('2019-02-14')"
   ]
  },
  {
   "cell_type": "code",
   "execution_count": 25,
   "metadata": {},
   "outputs": [
    {
     "name": "stdout",
     "output_type": "stream",
     "text": [
      "e\n"
     ]
    }
   ],
   "source": [
    "print(buscaBDId(str(96902)))"
   ]
  },
  {
   "cell_type": "code",
   "execution_count": null,
   "metadata": {},
   "outputs": [],
   "source": []
  },
  {
   "cell_type": "code",
   "execution_count": null,
   "metadata": {},
   "outputs": [],
   "source": []
  },
  {
   "cell_type": "code",
   "execution_count": null,
   "metadata": {},
   "outputs": [],
   "source": []
  }
 ],
 "metadata": {
  "kernelspec": {
   "display_name": "Python 3",
   "language": "python",
   "name": "python3"
  },
  "language_info": {
   "codemirror_mode": {
    "name": "ipython",
    "version": 3
   },
   "file_extension": ".py",
   "mimetype": "text/x-python",
   "name": "python",
   "nbconvert_exporter": "python",
   "pygments_lexer": "ipython3",
   "version": "3.7.1"
  }
 },
 "nbformat": 4,
 "nbformat_minor": 2
}
