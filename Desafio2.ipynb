{
 "cells": [
  {
   "cell_type": "code",
   "execution_count": 5,
   "metadata": {},
   "outputs": [],
   "source": [
    "import requests\n",
    "import sqlite3\n",
    "import os\n",
    "import time\n",
    "import hashlib\n",
    "import json\n",
    "import re\n",
    "from datetime import date\n",
    "from os import path\n",
    "from bs4 import BeautifulSoup as bs\n",
    "\n",
    "jsonPath = path.join(os.getcwd(), \"md5List.json\")\n",
    "bdPath = path.join(os.getcwd(), \"sqlite.db\")\n",
    "downPath = path.join(os.getcwd(), \"Downloads\", \"\")\n",
    "diariosPath = path.join(os.getcwd(), \"Diarios\")"
   ]
  },
  {
   "cell_type": "code",
   "execution_count": 17,
   "metadata": {},
   "outputs": [],
   "source": [
    "def getId(dados):\n",
    "    idD = dados.find('a')['href']#.replace('javascript:chamarCaptcha(', '').replace(',\\'TSE\\');', '')\n",
    "    IdD = re.sub('[^\\0-9]|[\\(,\\),\\']', '', idD)\n",
    "    print(idD)\n",
    "    return idD\n",
    "\n",
    "def getMD5(key, idD):       \n",
    "    #Todos os diarios serao baixados para a pasta downloads e 'renomeados'\n",
    "    diarioPath = path.join(os.getcwd(), \"Downloads\", key.replace('/', '_')+\".pdf\")\n",
    "\n",
    "    #Post realizado para download só precisa desses parametros pra funcionar\n",
    "    urlDownload = 'http://inter03.tse.jus.br/sadJudDiarioDeJusticaConsulta/diario.do'\n",
    "    parametros = {'action' : 'downloadDiario', 'captchaValidacao' : 'ok', 'id' : idD, 'tribunal' : 'TSE'} \n",
    "\n",
    "    req2 = requests.post(urlDownload, data=parametros)\n",
    "\n",
    "    if req2.status_code != 200:\n",
    "        return req2.status_code       \n",
    "\n",
    "    with open(diarioPath, 'wb') as file:\n",
    "        file.write(req2.content)\n",
    "    \n",
    "    #Timeout para caso nunca baixe o pdf procurado / a cada segundo verifica se ele existe (ja foi baixado)\n",
    "    timeout = 20\n",
    "    while not os.path.exists(diarioPath):\n",
    "        timeout = timeout - 1\n",
    "        if timeout == 0: break\n",
    "        time.sleep(1)\n",
    "\n",
    "    if os.path.isfile(diarioPath):\n",
    "        md5 = hashlib.md5(open(diarioPath,'rb').read()).hexdigest()\n",
    "    return md5\n",
    "\n",
    "def toISO(data):\n",
    "    data = data.split('/')\n",
    "    if(len(data) < 3): return None\n",
    "    \n",
    "    return data[2] +'-'+ data[1] +'-'+ data[0]\n",
    "\n",
    "def buscaBDId(idD):\n",
    "    bd = sqlite3.connect(bdPath) \n",
    "    cursor = bd.cursor()\n",
    "    cursor.execute('SELECT diario.md5 FROM diario WHERE id='+idD)\n",
    "    md5 = -1\n",
    "    for linha in cursor.fetchall():\n",
    "        md5 = linha[0]\n",
    "    bd.close()\n",
    "    return md5\n",
    "\n",
    "def buscaBD(data):\n",
    "    bd = sqlite3.connect(bdPath) \n",
    "    cursor = bd.cursor()\n",
    "    cursor.execute(\"SELECT diario.md5 FROM diario WHERE data='\"+data+\"'\")\n",
    "    md5 = []\n",
    "    for linha in cursor.fetchall():\n",
    "        md5.append(linha[0])\n",
    "    bd.close()\n",
    "    if len (md5) < 1: md5 = -1\n",
    "    return md5\n",
    "\n",
    "def insereBD(key, dataDiario, md5Diario, idDiario):\n",
    "    bd = sqlite3.connect(bdPath) \n",
    "    cursor = bd.cursor()\n",
    "    cursor.execute('INSERT INTO diario(numero, data, md5, id) VALUES (?,?,?,?)', (key, dataDiario, md5Diario, idDiario))\n",
    "    bd.commit()\n",
    "    bd.close()\n",
    "\n",
    "def getMD5List(data):\n",
    "    result = buscaBD(data)\n",
    "    if result != -1: return result\n",
    "    \n",
    "    data = date.fromisoformat(data)    \n",
    "    urlBusca = 'http://inter03.tse.jus.br/sadJudDiarioDeJusticaConsulta/diarioTxt.do'\n",
    "    \n",
    "    parametros = {'action' : 'buscarDiarios', 'voDiarioSearch.tribunal' : 'TSE', 'page' : 'diarioPageTextualList.jsp', \n",
    "                  'voDiarioSearch.dataPubIni' : data.strftime(\"%d/%m/%Y\"), 'voDiarioSearch.dataPubFim' : data.strftime(\"%d/%m/%Y\")} \n",
    "    \n",
    "    req = requests.get(urlBusca, params=parametros)\n",
    "    if req.status_code != 200:\n",
    "        return req.status_code\n",
    "    \n",
    "    soup = bs(req.content, 'html.parser')\n",
    "    tabela = soup.find_all('tr')\n",
    "    diarios = dict()\n",
    "    \n",
    "    listaMd5 = []\n",
    "    #For que remove o header e footer da tabela\n",
    "    for i in range(2, len(tabela)):\n",
    "        td = tabela[i].find_all('td')\n",
    "        \n",
    "        if len(td) < 3: continue\n",
    "        key = td[0].get_text()\n",
    "        \n",
    "        dataDiario = date.fromisoformat(toISO(td[1].get_text()))\n",
    "        if dataDiario.day != data.day: continue\n",
    "        \n",
    "        idDiario = getId(td[2])\n",
    "        md5Diario = buscaBDId(str(idDiario))\n",
    "        if md5Diario == -1: \n",
    "            md5Diario = getMD5(key, idDiario)\n",
    "            insereBD(str(key), str(dataDiario), str(md5Diario), idDiario)\n",
    "        listaMd5.append(md5Diario)\n",
    "        \n",
    "    return listaMd5"
   ]
  },
  {
   "cell_type": "code",
   "execution_count": 18,
   "metadata": {},
   "outputs": [
    {
     "name": "stdout",
     "output_type": "stream",
     "text": [
      "javascript:chamarCaptcha(86919,'TSE');\n"
     ]
    },
    {
     "ename": "OperationalError",
     "evalue": "near \":chamarCaptcha(86919,'TSE')\": syntax error",
     "output_type": "error",
     "traceback": [
      "\u001b[1;31m---------------------------------------------------------------------------\u001b[0m",
      "\u001b[1;31mOperationalError\u001b[0m                          Traceback (most recent call last)",
      "\u001b[1;32m<ipython-input-18-85b2171a7b18>\u001b[0m in \u001b[0;36m<module>\u001b[1;34m\u001b[0m\n\u001b[1;32m----> 1\u001b[1;33m \u001b[0mgetMD5List\u001b[0m\u001b[1;33m(\u001b[0m\u001b[1;34m'2018-02-06'\u001b[0m\u001b[1;33m)\u001b[0m\u001b[1;33m\u001b[0m\u001b[1;33m\u001b[0m\u001b[0m\n\u001b[0m",
      "\u001b[1;32m<ipython-input-17-333bb0deaa7c>\u001b[0m in \u001b[0;36mgetMD5List\u001b[1;34m(data)\u001b[0m\n\u001b[0;32m     96\u001b[0m \u001b[1;33m\u001b[0m\u001b[0m\n\u001b[0;32m     97\u001b[0m         \u001b[0midDiario\u001b[0m \u001b[1;33m=\u001b[0m \u001b[0mgetId\u001b[0m\u001b[1;33m(\u001b[0m\u001b[0mtd\u001b[0m\u001b[1;33m[\u001b[0m\u001b[1;36m2\u001b[0m\u001b[1;33m]\u001b[0m\u001b[1;33m)\u001b[0m\u001b[1;33m\u001b[0m\u001b[1;33m\u001b[0m\u001b[0m\n\u001b[1;32m---> 98\u001b[1;33m         \u001b[0mmd5Diario\u001b[0m \u001b[1;33m=\u001b[0m \u001b[0mbuscaBDId\u001b[0m\u001b[1;33m(\u001b[0m\u001b[0mstr\u001b[0m\u001b[1;33m(\u001b[0m\u001b[0midDiario\u001b[0m\u001b[1;33m)\u001b[0m\u001b[1;33m)\u001b[0m\u001b[1;33m\u001b[0m\u001b[1;33m\u001b[0m\u001b[0m\n\u001b[0m\u001b[0;32m     99\u001b[0m         \u001b[1;32mif\u001b[0m \u001b[0mmd5Diario\u001b[0m \u001b[1;33m==\u001b[0m \u001b[1;33m-\u001b[0m\u001b[1;36m1\u001b[0m\u001b[1;33m:\u001b[0m\u001b[1;33m\u001b[0m\u001b[1;33m\u001b[0m\u001b[0m\n\u001b[0;32m    100\u001b[0m             \u001b[0mmd5Diario\u001b[0m \u001b[1;33m=\u001b[0m \u001b[0mgetMD5\u001b[0m\u001b[1;33m(\u001b[0m\u001b[0mkey\u001b[0m\u001b[1;33m,\u001b[0m \u001b[0midDiario\u001b[0m\u001b[1;33m)\u001b[0m\u001b[1;33m\u001b[0m\u001b[1;33m\u001b[0m\u001b[0m\n",
      "\u001b[1;32m<ipython-input-17-333bb0deaa7c>\u001b[0m in \u001b[0;36mbuscaBDId\u001b[1;34m(idD)\u001b[0m\n\u001b[0;32m     41\u001b[0m     \u001b[0mbd\u001b[0m \u001b[1;33m=\u001b[0m \u001b[0msqlite3\u001b[0m\u001b[1;33m.\u001b[0m\u001b[0mconnect\u001b[0m\u001b[1;33m(\u001b[0m\u001b[0mbdPath\u001b[0m\u001b[1;33m)\u001b[0m\u001b[1;33m\u001b[0m\u001b[1;33m\u001b[0m\u001b[0m\n\u001b[0;32m     42\u001b[0m     \u001b[0mcursor\u001b[0m \u001b[1;33m=\u001b[0m \u001b[0mbd\u001b[0m\u001b[1;33m.\u001b[0m\u001b[0mcursor\u001b[0m\u001b[1;33m(\u001b[0m\u001b[1;33m)\u001b[0m\u001b[1;33m\u001b[0m\u001b[1;33m\u001b[0m\u001b[0m\n\u001b[1;32m---> 43\u001b[1;33m     \u001b[0mcursor\u001b[0m\u001b[1;33m.\u001b[0m\u001b[0mexecute\u001b[0m\u001b[1;33m(\u001b[0m\u001b[1;34m'SELECT diario.md5 FROM diario WHERE id='\u001b[0m\u001b[1;33m+\u001b[0m\u001b[0midD\u001b[0m\u001b[1;33m)\u001b[0m\u001b[1;33m\u001b[0m\u001b[1;33m\u001b[0m\u001b[0m\n\u001b[0m\u001b[0;32m     44\u001b[0m     \u001b[0mmd5\u001b[0m \u001b[1;33m=\u001b[0m \u001b[1;33m-\u001b[0m\u001b[1;36m1\u001b[0m\u001b[1;33m\u001b[0m\u001b[1;33m\u001b[0m\u001b[0m\n\u001b[0;32m     45\u001b[0m     \u001b[1;32mfor\u001b[0m \u001b[0mlinha\u001b[0m \u001b[1;32min\u001b[0m \u001b[0mcursor\u001b[0m\u001b[1;33m.\u001b[0m\u001b[0mfetchall\u001b[0m\u001b[1;33m(\u001b[0m\u001b[1;33m)\u001b[0m\u001b[1;33m:\u001b[0m\u001b[1;33m\u001b[0m\u001b[1;33m\u001b[0m\u001b[0m\n",
      "\u001b[1;31mOperationalError\u001b[0m: near \":chamarCaptcha(86919,'TSE')\": syntax error"
     ]
    }
   ],
   "source": [
    "getMD5List('2018-02-06')"
   ]
  },
  {
   "cell_type": "code",
   "execution_count": 9,
   "metadata": {},
   "outputs": [
    {
     "ename": "TypeError",
     "evalue": "'int' object is not subscriptable",
     "output_type": "error",
     "traceback": [
      "\u001b[1;31m---------------------------------------------------------------------------\u001b[0m",
      "\u001b[1;31mTypeError\u001b[0m                                 Traceback (most recent call last)",
      "\u001b[1;32m<ipython-input-9-298f4e53f027>\u001b[0m in \u001b[0;36m<module>\u001b[1;34m\u001b[0m\n\u001b[1;32m----> 1\u001b[1;33m \u001b[0mgetId\u001b[0m\u001b[1;33m(\u001b[0m\u001b[1;34m\"javascript:chamarCaptcha(96902,'TSE');\"\u001b[0m\u001b[1;33m)\u001b[0m\u001b[1;33m\u001b[0m\u001b[1;33m\u001b[0m\u001b[0m\n\u001b[0m",
      "\u001b[1;32m<ipython-input-8-6a6a04228b4b>\u001b[0m in \u001b[0;36mgetId\u001b[1;34m(dados)\u001b[0m\n\u001b[0;32m      1\u001b[0m \u001b[1;32mdef\u001b[0m \u001b[0mgetId\u001b[0m\u001b[1;33m(\u001b[0m\u001b[0mdados\u001b[0m\u001b[1;33m)\u001b[0m\u001b[1;33m:\u001b[0m\u001b[1;33m\u001b[0m\u001b[1;33m\u001b[0m\u001b[0m\n\u001b[1;32m----> 2\u001b[1;33m     \u001b[0midD\u001b[0m \u001b[1;33m=\u001b[0m \u001b[0mdados\u001b[0m\u001b[1;33m.\u001b[0m\u001b[0mfind\u001b[0m\u001b[1;33m(\u001b[0m\u001b[1;34m'a'\u001b[0m\u001b[1;33m)\u001b[0m\u001b[1;33m[\u001b[0m\u001b[1;34m'href'\u001b[0m\u001b[1;33m]\u001b[0m\u001b[1;33m\u001b[0m\u001b[1;33m\u001b[0m\u001b[0m\n\u001b[0m\u001b[0;32m      3\u001b[0m     \u001b[0mre\u001b[0m\u001b[1;33m.\u001b[0m\u001b[0msub\u001b[0m\u001b[1;33m(\u001b[0m\u001b[1;34mr'[^\\0-9]|[\\(,\\),\\']'\u001b[0m\u001b[1;33m,\u001b[0m \u001b[1;34m' '\u001b[0m\u001b[1;33m,\u001b[0m \u001b[0midD\u001b[0m\u001b[1;33m)\u001b[0m\u001b[1;33m\u001b[0m\u001b[1;33m\u001b[0m\u001b[0m\n\u001b[0;32m      4\u001b[0m     \u001b[1;32mreturn\u001b[0m \u001b[0midD\u001b[0m\u001b[1;33m\u001b[0m\u001b[1;33m\u001b[0m\u001b[0m\n\u001b[0;32m      5\u001b[0m \u001b[1;33m\u001b[0m\u001b[0m\n",
      "\u001b[1;31mTypeError\u001b[0m: 'int' object is not subscriptable"
     ]
    }
   ],
   "source": []
  },
  {
   "cell_type": "code",
   "execution_count": null,
   "metadata": {},
   "outputs": [],
   "source": []
  },
  {
   "cell_type": "code",
   "execution_count": null,
   "metadata": {},
   "outputs": [],
   "source": []
  },
  {
   "cell_type": "code",
   "execution_count": null,
   "metadata": {},
   "outputs": [],
   "source": []
  }
 ],
 "metadata": {
  "kernelspec": {
   "display_name": "Python 3",
   "language": "python",
   "name": "python3"
  },
  "language_info": {
   "codemirror_mode": {
    "name": "ipython",
    "version": 3
   },
   "file_extension": ".py",
   "mimetype": "text/x-python",
   "name": "python",
   "nbconvert_exporter": "python",
   "pygments_lexer": "ipython3",
   "version": "3.7.1"
  }
 },
 "nbformat": 4,
 "nbformat_minor": 2
}
