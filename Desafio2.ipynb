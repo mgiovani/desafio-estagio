{
 "cells": [
  {
   "cell_type": "code",
   "execution_count": 166,
   "metadata": {},
   "outputs": [],
   "source": [
    "import requests\n",
    "import sqlite3\n",
    "import os\n",
    "import time\n",
    "import hashlib\n",
    "from bs4 import BeautifulSoup as bs\n",
    "from selenium import webdriver\n",
    "from datetime import date\n",
    "from selenium import webdriver\n",
    "from selenium.webdriver.chrome.options import Options\n",
    "from requests_html import HTMLSession\n",
    "\n",
    "\n",
    "bdPath = path.join(os.getcwd(), \"BD\", \"bd.db\")\n",
    "downPath = path.join(os.getcwd(), \"Downloads\", \"\")\n",
    "diariosPath = path.join(os.getcwd(), \"Diarios\")"
   ]
  },
  {
   "cell_type": "code",
   "execution_count": 168,
   "metadata": {},
   "outputs": [],
   "source": [
    "def getId(dados):\n",
    "    idD = dados.find('a')['href'].replace('javascript:chamarCaptcha(', '').replace(',\\'TSE\\');', '')\n",
    "    return idD\n",
    "\n",
    "def getMD5(key, idD):\n",
    "    md5 = buscaBDId(idD)\n",
    "    if md5 == -1:\n",
    "        urlDownload = 'http://inter03.tse.jus.br/sadJudDiarioDeJusticaConsulta/'\n",
    "        options = Options()\n",
    "        prefs = {'download.prompt_for_download': False,\n",
    "        'download.default_directory': downPath,\n",
    "        'download.directory_upgrage': True,\n",
    "        'profile.default_content_settings.popups': 0,\n",
    "        }\n",
    "        options.add_experimental_option('prefs', prefs)\n",
    "        driver = webdriver.Chrome(options = options)\n",
    "        driver.get(urlDownload)\n",
    "\n",
    "        jsModificado = '''\n",
    "                       function chamarCaptcha(a,t){$.ajax({type:\"POST\",url:\"captcha.do\",success:function(r){var c;$.ajax({type:\"POST\",contentType:\"application/x-www-form-urlencoded; charset=UTF-8\",data:{resposta:c,pergunta:r},url:\"captcha.do\",success:function(e){$(\"#pergunta\").attr(\"value\",r),$(\"#id\").attr(\"value\",a),$(\"#tribunal\").attr(\"value\",t),$(\"#resposta\").attr(\"value\",c),$(\"#captchaValidacao\").attr(\"value\",\"ok\"),$(\"#formDocumentoDownload\")[0].submit()},error:function(a){alert(\"Error: \"+a)}})}})};\n",
    "                       '''\n",
    "\n",
    "        jsModificado = jsModificado + 'chamarCaptcha('+idD+',\"TSE\");'\n",
    "        driver.execute_script(jsModificado)\n",
    "        \n",
    "        diarioPath = path.join(os.getcwd(), \"Downloads\", \"TSE-\"+key.replace('/', '_')+\".pdf\")\n",
    "        while not os.path.exists(diarioPath):\n",
    "            time.sleep(1)\n",
    "\n",
    "        if os.path.isfile(diarioPath):\n",
    "            md5 = hashlib.md5(open(diarioPath,'rb').read()).hexdigest()\n",
    "            driver.close()\n",
    "    return md5\n",
    "\n",
    "def toISO(data):\n",
    "    data = data.split('/')\n",
    "    if(len(data) < 3): return None\n",
    "    \n",
    "    return data[2] +'-'+ data[1] +'-'+ data[0]\n",
    "\n",
    "def buscaBDId(idD):\n",
    "    return -1\n",
    "    bd = sqlite3.connect(bdPath) \n",
    "    cursor = bd.cursor()\n",
    "    cursor.execute('SELECT diario.md5 FROM diario WHERE id='+idD)\n",
    "    md5 = -1\n",
    "    for linha in cursor.fetchall():\n",
    "        print(linha)\n",
    "        break\n",
    "    bd.close()\n",
    "    return md5\n",
    "\n",
    "def getMD5List(data):\n",
    "    data = date.fromisoformat(data)\n",
    "    #if data < datetime.now()\n",
    "        #result = buscaDB(data)\n",
    "        #if result:\n",
    "        #    return result\n",
    "    \n",
    "    urlBusca = 'http://inter03.tse.jus.br/sadJudDiarioDeJusticaConsulta/diarioTxt.do'\n",
    "    parametros = {'action' : 'buscarDiarios', 'voDiarioSearch.tribunal' : 'TSE', 'page' : 'diarioPageTextualList.jsp', \n",
    "                  'voDiarioSearch.dataPubIni' : data.strftime(\"%d/%m/%Y\"), 'voDiarioSearch.dataPubFim' : data.strftime(\"%d/%m/%Y\")} \n",
    "    \n",
    "    \n",
    "    req = requests.get(urlBusca, params=parametros)\n",
    "    if req.status_code != 200:\n",
    "        return req.status_code\n",
    "    \n",
    "    soup = bs(req.content, 'html.parser')\n",
    "    tabela = soup.find_all('tr')\n",
    "    diarios = dict()\n",
    "    \n",
    "    \n",
    "    #For que remove o header e footer da tabela\n",
    "    for i in range(2, len(tabela)):\n",
    "        td = tabela[i].find_all('td')\n",
    "        \n",
    "        if len(td) < 3: continue\n",
    "        key = td[0].get_text()\n",
    "        \n",
    "        dataDiario = date.fromisoformat(toISO(td[1].get_text()))\n",
    "        if dataDiario.day != data.day: continue\n",
    "        \n",
    "        idDiario = getId(td[2])\n",
    "        md5Diario = getMD5(key, idDiario)\n",
    "        diarios.setdefault(key, [str(dataDiario), md5Diario, idDiario])\n",
    "    \n",
    "    print(diarios) "
   ]
  },
  {
   "cell_type": "code",
   "execution_count": 169,
   "metadata": {},
   "outputs": [
    {
     "name": "stdout",
     "output_type": "stream",
     "text": [
      "http://inter03.tse.jus.br/sadJudDiarioDeJusticaConsulta/diarioTxt.do?action=buscarDiarios&voDiarioSearch.tribunal=TSE&page=diarioPageTextualList.jsp&voDiarioSearch.dataPubIni=18%2F02%2F2019&voDiarioSearch.dataPubFim=18%2F02%2F2019\n",
      "{'34/2019': ['2019-02-18', 'e236d6ec787ac3eb1740ea7b321770e7', '96902']}\n"
     ]
    }
   ],
   "source": [
    "getMD5List('2019-02-18')"
   ]
  },
  {
   "cell_type": "code",
   "execution_count": null,
   "metadata": {},
   "outputs": [],
   "source": []
  },
  {
   "cell_type": "code",
   "execution_count": null,
   "metadata": {},
   "outputs": [],
   "source": []
  },
  {
   "cell_type": "code",
   "execution_count": null,
   "metadata": {},
   "outputs": [],
   "source": []
  },
  {
   "cell_type": "code",
   "execution_count": null,
   "metadata": {},
   "outputs": [],
   "source": []
  }
 ],
 "metadata": {
  "kernelspec": {
   "display_name": "Python 3",
   "language": "python",
   "name": "python3"
  },
  "language_info": {
   "codemirror_mode": {
    "name": "ipython",
    "version": 3
   },
   "file_extension": ".py",
   "mimetype": "text/x-python",
   "name": "python",
   "nbconvert_exporter": "python",
   "pygments_lexer": "ipython3",
   "version": "3.7.1"
  }
 },
 "nbformat": 4,
 "nbformat_minor": 2
}
